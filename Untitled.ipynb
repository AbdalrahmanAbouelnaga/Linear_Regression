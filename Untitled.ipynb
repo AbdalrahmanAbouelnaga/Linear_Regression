{
 "cells": [
  {
   "cell_type": "code",
   "execution_count": 1,
   "id": "062fd3df-9e21-4819-bae4-b7b58ddd7a5b",
   "metadata": {},
   "outputs": [],
   "source": [
    "%matplotlib widget\n",
    "import random\n",
    "import time\n",
    "import math\n",
    "from IPython import display"
   ]
  },
  {
   "cell_type": "code",
   "execution_count": 2,
   "id": "7bf78643-e6df-4cb9-9cf7-57e02bd519bd",
   "metadata": {},
   "outputs": [],
   "source": [
    "import numpy as np"
   ]
  },
  {
   "cell_type": "code",
   "execution_count": 3,
   "id": "11289715-0381-405b-ad0c-750ed1cad035",
   "metadata": {},
   "outputs": [],
   "source": [
    "import matplotlib.pyplot as plt"
   ]
  },
  {
   "cell_type": "code",
   "execution_count": 24,
   "id": "7bf1587a-c31b-4d11-9045-346c25304ea9",
   "metadata": {},
   "outputs": [],
   "source": [
    "class LinearRegression():\n",
    "    def __init__(self):\n",
    "        self.W = random.random()\n",
    "        self.B = random.random()\n",
    "\n",
    "    def prediction(self,X):\n",
    "        return X*self.W + self.B\n",
    "\n",
    "    def cost(self,X,y):\n",
    "        m = X.shape[0]\n",
    "        return (1/(2*m))*np.sum((self.prediction(X)-y)**2)\n",
    "    def compute_gradient(self,X, y): \n",
    "        m = X.shape[0]\n",
    "        dj_dw =  (1/(m))*np.sum((self.prediction(X)-y)*X)\n",
    "        dj_db = (1/(m))*np.sum((self.prediction(X)-y))\n",
    "        return dj_dw,dj_db\n",
    "    def gradient_descent(self,x, y, alpha, num_iters): \n",
    "        \n",
    "        while (self.cost(x,y)>0.001):\n",
    "            # Calculate the gradient and update the parameters using gradient_function\n",
    "            dj_dw, dj_db = self.compute_gradient(x, y)     \n",
    "            # Update Parameters using equation (3) above\n",
    "            b = self.B - alpha * dj_db                            \n",
    "            w = self.W - alpha * dj_dw                            \n",
    "            self.W = w\n",
    "            self.B = b\n",
    "            "
   ]
  },
  {
   "cell_type": "code",
   "execution_count": 25,
   "id": "c134230a-19a7-4cfd-9340-e8c19ad25dad",
   "metadata": {},
   "outputs": [],
   "source": [
    "x_train = np.array([1.0,2.0,3.0])           #(size in 1000 square feet)\n",
    "y_train = np.array([300.0, 500.0,700.0])  "
   ]
  },
  {
   "cell_type": "code",
   "execution_count": 26,
   "id": "70273bef-be10-4f6f-bcd9-a6e64725843b",
   "metadata": {},
   "outputs": [
    {
     "data": {
      "text/plain": [
       "(3,)"
      ]
     },
     "execution_count": 26,
     "metadata": {},
     "output_type": "execute_result"
    }
   ],
   "source": [
    "x_train.shape"
   ]
  },
  {
   "cell_type": "code",
   "execution_count": 27,
   "id": "6bf14ebd-6e24-4b80-b6c2-e0d6c74f1c6b",
   "metadata": {},
   "outputs": [
    {
     "data": {
      "text/plain": [
       "[<matplotlib.lines.Line2D at 0x7a9ee585d9c0>]"
      ]
     },
     "execution_count": 27,
     "metadata": {},
     "output_type": "execute_result"
    }
   ],
   "source": [
    "\n",
    "plt.scatter(x = x_train,y=y_train)\n",
    "plt.plot(x_train,y_train)"
   ]
  },
  {
   "cell_type": "code",
   "execution_count": 28,
   "id": "b3a9a248-2e32-4936-8b00-5533a3d4ad2d",
   "metadata": {},
   "outputs": [],
   "source": [
    "model = LinearRegression()"
   ]
  },
  {
   "cell_type": "code",
   "execution_count": 29,
   "id": "87b10513-2331-4ec6-b9ac-20847e1243f8",
   "metadata": {},
   "outputs": [],
   "source": [
    "model.gradient_descent(x_train,y_train,0.0001,1000000)"
   ]
  },
  {
   "cell_type": "code",
   "execution_count": 30,
   "id": "fea15de1-499e-4012-b485-c28ca7f03045",
   "metadata": {},
   "outputs": [
    {
     "data": {
      "text/plain": [
       "array([299.93386705, 499.98580793, 700.03774881])"
      ]
     },
     "execution_count": 30,
     "metadata": {},
     "output_type": "execute_result"
    }
   ],
   "source": [
    "model.prediction(x_train)"
   ]
  },
  {
   "cell_type": "code",
   "execution_count": 31,
   "id": "bfc54b39-7a28-4c71-ac0d-9fb3e0243919",
   "metadata": {},
   "outputs": [
    {
     "data": {
      "text/plain": [
       "array([300., 500., 700.])"
      ]
     },
     "execution_count": 31,
     "metadata": {},
     "output_type": "execute_result"
    }
   ],
   "source": [
    "y_train"
   ]
  },
  {
   "cell_type": "code",
   "execution_count": null,
   "id": "33bc50de-6568-4789-ac68-ca66674947d1",
   "metadata": {},
   "outputs": [],
   "source": []
  }
 ],
 "metadata": {
  "kernelspec": {
   "display_name": "Python 3 (ipykernel)",
   "language": "python",
   "name": "python3"
  },
  "language_info": {
   "codemirror_mode": {
    "name": "ipython",
    "version": 3
   },
   "file_extension": ".py",
   "mimetype": "text/x-python",
   "name": "python",
   "nbconvert_exporter": "python",
   "pygments_lexer": "ipython3",
   "version": "3.10.12"
  }
 },
 "nbformat": 4,
 "nbformat_minor": 5
}
