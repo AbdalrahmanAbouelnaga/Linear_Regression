{
 "cells": [
  {
   "cell_type": "code",
   "execution_count": 1,
   "id": "062fd3df-9e21-4819-bae4-b7b58ddd7a5b",
   "metadata": {},
   "outputs": [],
   "source": [
    "import random\n"
   ]
  },
  {
   "cell_type": "code",
   "execution_count": 2,
   "id": "7bf78643-e6df-4cb9-9cf7-57e02bd519bd",
   "metadata": {},
   "outputs": [],
   "source": [
    "import numpy as np"
   ]
  },
  {
   "cell_type": "code",
   "execution_count": 163,
   "id": "7bf1587a-c31b-4d11-9045-346c25304ea9",
   "metadata": {},
   "outputs": [],
   "source": [
    "class LinearRegression():\n",
    "    def __init__(self):\n",
    "        self.W = []\n",
    "        self.B = random.random()\n",
    "\n",
    "    def prediction(self,X):\n",
    "        if len(self.W) == 0:\n",
    "            self.W = np.array([random.randint(0,1000) for i in range(X.shape[1])])\n",
    "        return np.sum(X*self.W,axis=1) + self.B\n",
    "\n",
    "    def cost(self,X,y):\n",
    "        m = X.shape[0]\n",
    "        return (1/(2*m))*sum((self.prediction(X)-y)**2)"
   ]
  },
  {
   "cell_type": "code",
   "execution_count": 164,
   "id": "c134230a-19a7-4cfd-9340-e8c19ad25dad",
   "metadata": {},
   "outputs": [],
   "source": [
    "x_train = np.array([[1.0, 2.0],[3,4],[1,5]])           #(size in 1000 square feet)\n",
    "y_train = np.array([300.0, 500.0,700.0])  "
   ]
  },
  {
   "cell_type": "code",
   "execution_count": 165,
   "id": "70273bef-be10-4f6f-bcd9-a6e64725843b",
   "metadata": {},
   "outputs": [
    {
     "data": {
      "text/plain": [
       "(3, 2)"
      ]
     },
     "execution_count": 165,
     "metadata": {},
     "output_type": "execute_result"
    }
   ],
   "source": [
    "x_train.shape"
   ]
  },
  {
   "cell_type": "code",
   "execution_count": 167,
   "id": "43c6a388-405f-436f-8ebb-0d1c8d55a7d2",
   "metadata": {},
   "outputs": [
    {
     "data": {
      "text/plain": [
       "array([-298.2, -496.2, -696.7])"
      ]
     },
     "execution_count": 167,
     "metadata": {},
     "output_type": "execute_result"
    }
   ],
   "source": [
    "(np.sum(x_train*0.5,axis=1) + 0.3)-y_train"
   ]
  },
  {
   "cell_type": "code",
   "execution_count": 168,
   "id": "fe16cfa5-ca52-4ea0-8276-9dbc18a4ea6a",
   "metadata": {},
   "outputs": [],
   "source": [
    "model = LinearRegression()"
   ]
  },
  {
   "cell_type": "code",
   "execution_count": 169,
   "id": "0abd0990-5a94-4b10-8e08-d75d2d1b965f",
   "metadata": {},
   "outputs": [
    {
     "data": {
      "text/plain": [
       "array([1246.10570928, 3058.10570928, 2266.10570928])"
      ]
     },
     "execution_count": 169,
     "metadata": {},
     "output_type": "execute_result"
    }
   ],
   "source": [
    "model.prediction(x_train)"
   ]
  },
  {
   "cell_type": "code",
   "execution_count": 170,
   "id": "54314102-23e5-4898-9465-ae85699311b6",
   "metadata": {},
   "outputs": [
    {
     "name": "stdout",
     "output_type": "stream",
     "text": [
      "9891707.925613813\n"
     ]
    },
    {
     "data": {
      "text/plain": [
       "1648617.987602302"
      ]
     },
     "execution_count": 170,
     "metadata": {},
     "output_type": "execute_result"
    }
   ],
   "source": [
    "model.cost(x_train,y_train)"
   ]
  },
  {
   "cell_type": "code",
   "execution_count": 142,
   "id": "94f25e41-e4e6-4051-9825-db2c55543319",
   "metadata": {},
   "outputs": [
    {
     "data": {
      "text/plain": [
       "12500.0"
      ]
     },
     "execution_count": 142,
     "metadata": {},
     "output_type": "execute_result"
    }
   ],
   "source": [
    "(1/4)*50000"
   ]
  },
  {
   "cell_type": "code",
   "execution_count": 154,
   "id": "70927620-349f-4b0f-8d6c-bc711e5ff4e4",
   "metadata": {},
   "outputs": [],
   "source": [
    "W = np.array([random.randint(0,1000) for i in range(x_train.shape[1])])"
   ]
  },
  {
   "cell_type": "code",
   "execution_count": 155,
   "id": "db171583-b69b-409a-bf97-983a6f270da4",
   "metadata": {},
   "outputs": [
    {
     "data": {
      "text/plain": [
       "array([800, 405])"
      ]
     },
     "execution_count": 155,
     "metadata": {},
     "output_type": "execute_result"
    }
   ],
   "source": [
    "W"
   ]
  },
  {
   "cell_type": "code",
   "execution_count": 161,
   "id": "55e70f40-b827-4a25-b9ad-1df88c418b0c",
   "metadata": {},
   "outputs": [
    {
     "data": {
      "text/plain": [
       "array([1610., 4020., 2825.])"
      ]
     },
     "execution_count": 161,
     "metadata": {},
     "output_type": "execute_result"
    }
   ],
   "source": [
    "np.sum(x_train*W,axis=1)"
   ]
  },
  {
   "cell_type": "code",
   "execution_count": 162,
   "id": "ca925dcb-0869-4ab7-a9e8-e306da084159",
   "metadata": {},
   "outputs": [
    {
     "data": {
      "text/plain": [
       "array([[ 800.,  810.],\n",
       "       [2400., 1620.],\n",
       "       [ 800., 2025.]])"
      ]
     },
     "execution_count": 162,
     "metadata": {},
     "output_type": "execute_result"
    }
   ],
   "source": [
    "x_train*W"
   ]
  },
  {
   "cell_type": "code",
   "execution_count": null,
   "id": "a4fef127-2be5-4d9d-9c04-6a5c646ab8da",
   "metadata": {},
   "outputs": [],
   "source": []
  }
 ],
 "metadata": {
  "kernelspec": {
   "display_name": "Python 3 (ipykernel)",
   "language": "python",
   "name": "python3"
  },
  "language_info": {
   "codemirror_mode": {
    "name": "ipython",
    "version": 3
   },
   "file_extension": ".py",
   "mimetype": "text/x-python",
   "name": "python",
   "nbconvert_exporter": "python",
   "pygments_lexer": "ipython3",
   "version": "3.10.12"
  }
 },
 "nbformat": 4,
 "nbformat_minor": 5
}
