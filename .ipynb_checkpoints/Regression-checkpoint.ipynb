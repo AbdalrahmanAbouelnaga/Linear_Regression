{
 "cells": [
  {
   "cell_type": "code",
   "execution_count": 1,
   "id": "ebefaf4f-8e24-4575-adf7-19fe5c1c5b6e",
   "metadata": {},
   "outputs": [],
   "source": [
    "import numpy as np\n",
    "import math\n",
    "import random\n",
    "import pandas as pd"
   ]
  },
  {
   "cell_type": "code",
   "execution_count": 303,
   "id": "39a477ab-cd87-4eb5-8055-774a89e16c58",
   "metadata": {},
   "outputs": [],
   "source": [
    "class Regression():\n",
    "    def __init__(self,kernel=\"linear\"):\n",
    "        self.W = np.array([])\n",
    "        self.B = 0\n",
    "        self.kernel = kernel\n",
    "\n",
    "    def prediction(self,X):\n",
    "        if self.kernel == \"square\":\n",
    "            X_new = np.c_[X, X**2]\n",
    "        elif self.kernel == \"cubic\":\n",
    "            X_new = np.c_[X, X**2, X**3]\n",
    "        elif self.kernel == \"linear\":\n",
    "            X_new = X\n",
    "\n",
    "        \n",
    "        if self.W.shape[0] != X_new.shape[1]:\n",
    "            self.W = np.zeros((X_new.shape[1],))\n",
    "        if X_new.shape[1] == 1:\n",
    "            return np.dot(X_new,self.W) + self.B\n",
    "        else:\n",
    "            return np.matmul(X_new,self.W) + self.B\n",
    "\n",
    "    def _prediction(self,X):\n",
    "        if self.W.shape[0] != X.shape[1]:\n",
    "            self.W = np.zeros((X.shape[1],))\n",
    "        if X.shape[1] == 1:\n",
    "            return np.dot(X,self.W) + self.B\n",
    "        else:\n",
    "            return np.matmul(X,self.W) + self.B\n",
    "\n",
    "    def cost(self,X,y):\n",
    "        m = self.X.shape[0]\n",
    "        return (1/(2*m))*(((self.prediction(X)-y)**2).sum())\n",
    "\n",
    "    \n",
    "    def _cost(self,X,y):\n",
    "        m = self.X.shape[0]\n",
    "        return (1/(2*m))*(((self._prediction(X)-y)**2).sum())\n",
    "\n",
    "    def _compute_gradient(self,X,y):\n",
    "        m,n = X.shape\n",
    "        dj_dw = np.zeros((n,))\n",
    "        for i in range(0,n):\n",
    "            dj_dw[i] = ((1/m)*(((self._prediction(X)-y)*X[:,i]).sum()))\n",
    "        dj_db = (1/m)*(((self._prediction(X)-y)).sum())\n",
    "        return dj_dw,dj_db\n",
    "\n",
    "    def train(self,X,y,alpha,tol,n_iters):\n",
    "        m,n = X.shape\n",
    "        if self.kernel == \"square\":\n",
    "            self.X = np.c_[X, X**2, X**3]\n",
    "        elif self.kernel == \"cubic\":\n",
    "            self.X = np.c_[X, X**2, X**3]\n",
    "        elif self.kernel == \"linear\":\n",
    "            self.X = X\n",
    "        j=0\n",
    "        while (self._cost(self.X,y)>tol and j<n_iters):\n",
    "            dj_dw,dj_db = self._compute_gradient(self.X,y)\n",
    "            for i in range(0,self.X.shape[1]):\n",
    "                self.W[i] = self.W[i]- alpha*dj_dw[i]\n",
    "            self.B = self.B - alpha*dj_db\n",
    "            j +=1\n",
    "            if j%10000.0 == 0:\n",
    "                print(j,self._cost(self.X,y)) \n",
    "        print(j,self._cost(self.X,y))"
   ]
  },
  {
   "cell_type": "code",
   "execution_count": 304,
   "id": "50fa8eed-9b4d-4557-a43a-f34e3b87ebeb",
   "metadata": {},
   "outputs": [],
   "source": [
    "def max_normalize(X):\n",
    "    X_new = X.copy().astype(\"float\")\n",
    "    \n",
    "    for i in range(0,X_new.shape[1]):\n",
    "        X_new[:,i] = X_new[:,i]/X_new[:,i].max()\n",
    "    return X_new"
   ]
  },
  {
   "cell_type": "code",
   "execution_count": 305,
   "id": "7bc4a953-90fe-4efe-98f4-09ce1d23edd7",
   "metadata": {},
   "outputs": [],
   "source": [
    "def mean_normalize(X):\n",
    "    X_new = X.copy().astype(\"float\")\n",
    "    for i in range(0,X_new.shape[1]):\n",
    "        X_new[:,i] = (X_new[:,i]-X_new[:,i].mean())/(X_new[:,i].max()-X_new[:,i].min())\n",
    "    return X_new"
   ]
  },
  {
   "cell_type": "code",
   "execution_count": 323,
   "id": "61daa253-831b-4ff9-aae8-53fefd1d773e",
   "metadata": {},
   "outputs": [],
   "source": [
    "X_train = np.array([2104, 1416, 852])\n",
    "y_train = np.array([460, 232, 178])"
   ]
  },
  {
   "cell_type": "code",
   "execution_count": 307,
   "id": "1040b1f5-ca45-474e-aabd-f41ce2022365",
   "metadata": {},
   "outputs": [],
   "source": [
    "X_train = mean_normalize(X_train)"
   ]
  },
  {
   "cell_type": "code",
   "execution_count": 308,
   "id": "0399e806-5aa3-44a9-964e-1e4bf4b154a7",
   "metadata": {},
   "outputs": [],
   "source": [
    "model = Regression()"
   ]
  },
  {
   "cell_type": "code",
   "execution_count": 309,
   "id": "67f0488d-bcdf-41cc-a071-10c01e965124",
   "metadata": {},
   "outputs": [
    {
     "name": "stdout",
     "output_type": "stream",
     "text": [
      "10000 3.491536585259569\n",
      "20000 0.037263190875640215\n",
      "30000 0.0004331150021257645\n",
      "33291 9.99872500773429e-05\n"
     ]
    }
   ],
   "source": [
    "model.train(X_train,y_train,0.001,0.0001,100000)"
   ]
  },
  {
   "cell_type": "code",
   "execution_count": 310,
   "id": "ba64076c-4ab9-4afc-b4e5-aaaa6f586e25",
   "metadata": {},
   "outputs": [
    {
     "data": {
      "text/plain": [
       "array([459.99267355, 232.01977856, 177.98754788])"
      ]
     },
     "execution_count": 310,
     "metadata": {},
     "output_type": "execute_result"
    }
   ],
   "source": [
    "model.prediction(X_train)"
   ]
  },
  {
   "cell_type": "code",
   "execution_count": 311,
   "id": "e59bdb9c-d1e7-4cf9-a1bb-61aecc08bc85",
   "metadata": {},
   "outputs": [],
   "source": [
    "model_square = Regression(kernel=\"square\")"
   ]
  },
  {
   "cell_type": "code",
   "execution_count": 312,
   "id": "8bcf7c05-37ef-434f-83cc-7d554251320f",
   "metadata": {},
   "outputs": [
    {
     "name": "stdout",
     "output_type": "stream",
     "text": [
      "10000 0.2559392414740501\n",
      "20000 0.0002966979011948859\n",
      "21761 9.99545832780837e-05\n"
     ]
    }
   ],
   "source": [
    "model_square.train(X_train,y_train,0.001,0.0001,100000)"
   ]
  },
  {
   "cell_type": "code",
   "execution_count": 313,
   "id": "dfef03df-7733-461b-85fe-a0142cbefb52",
   "metadata": {},
   "outputs": [
    {
     "data": {
      "text/plain": [
       "array([250.68480278, 250.68480278, 250.68480278])"
      ]
     },
     "execution_count": 313,
     "metadata": {},
     "output_type": "execute_result"
    }
   ],
   "source": [
    "model_square.prediction(X_train)"
   ]
  },
  {
   "cell_type": "code",
   "execution_count": 314,
   "id": "ea381bc6-377b-4822-b15a-c6b7bb30c8ef",
   "metadata": {},
   "outputs": [],
   "source": [
    "model_cubic = Regression(kernel=\"cubic\")"
   ]
  },
  {
   "cell_type": "code",
   "execution_count": 315,
   "id": "c25aced9-0e83-41ba-98f9-3dd489f83623",
   "metadata": {},
   "outputs": [
    {
     "name": "stdout",
     "output_type": "stream",
     "text": [
      "10000 0.2559392414740501\n",
      "20000 0.0002966979011948859\n",
      "21761 9.99545832780837e-05\n"
     ]
    }
   ],
   "source": [
    "model_cubic.train(X_train,y_train,0.001,0.0001,100000)"
   ]
  },
  {
   "cell_type": "code",
   "execution_count": 316,
   "id": "a23f22ee-22eb-4dc7-bffb-712ea1aeced8",
   "metadata": {},
   "outputs": [
    {
     "data": {
      "text/plain": [
       "(3, 8)"
      ]
     },
     "execution_count": 316,
     "metadata": {},
     "output_type": "execute_result"
    }
   ],
   "source": [
    "X_new.shape"
   ]
  },
  {
   "cell_type": "code",
   "execution_count": 317,
   "id": "a7f16ab2-c4e6-45d8-9381-03a9e759c6cb",
   "metadata": {},
   "outputs": [
    {
     "data": {
      "text/plain": [
       "array([459.99316836, 232.0199062 , 177.98747805])"
      ]
     },
     "execution_count": 317,
     "metadata": {},
     "output_type": "execute_result"
    }
   ],
   "source": [
    "model_cubic.prediction(X_train)"
   ]
  },
  {
   "cell_type": "code",
   "execution_count": 318,
   "id": "849a7f52-1739-415b-ad71-e855bd5b6c48",
   "metadata": {},
   "outputs": [
    {
     "data": {
      "text/plain": [
       "9.99872500773429e-05"
      ]
     },
     "execution_count": 318,
     "metadata": {},
     "output_type": "execute_result"
    }
   ],
   "source": [
    "model.cost(X_train,y_train)"
   ]
  },
  {
   "cell_type": "code",
   "execution_count": 319,
   "id": "7023d700-26cc-4ad2-a6d9-8f43350cfdf1",
   "metadata": {},
   "outputs": [
    {
     "data": {
      "text/plain": [
       "8240.842366269884"
      ]
     },
     "execution_count": 319,
     "metadata": {},
     "output_type": "execute_result"
    }
   ],
   "source": [
    "model_square.cost(X_train,y_train)"
   ]
  },
  {
   "cell_type": "code",
   "execution_count": 320,
   "id": "7262a273-f444-4744-a658-a73e895839d2",
   "metadata": {},
   "outputs": [
    {
     "data": {
      "text/plain": [
       "9.99545832780837e-05"
      ]
     },
     "execution_count": 320,
     "metadata": {},
     "output_type": "execute_result"
    }
   ],
   "source": [
    "model_cubic.cost(X_train,y_train)"
   ]
  },
  {
   "cell_type": "code",
   "execution_count": null,
   "id": "21bc4b35-9c52-4274-9019-a45f4c33753c",
   "metadata": {},
   "outputs": [],
   "source": []
  }
 ],
 "metadata": {
  "kernelspec": {
   "display_name": "Python 3 (ipykernel)",
   "language": "python",
   "name": "python3"
  },
  "language_info": {
   "codemirror_mode": {
    "name": "ipython",
    "version": 3
   },
   "file_extension": ".py",
   "mimetype": "text/x-python",
   "name": "python",
   "nbconvert_exporter": "python",
   "pygments_lexer": "ipython3",
   "version": "3.10.12"
  }
 },
 "nbformat": 4,
 "nbformat_minor": 5
}
